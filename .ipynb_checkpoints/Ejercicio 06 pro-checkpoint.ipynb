{
 "cells": [
  {
   "cell_type": "markdown",
   "metadata": {},
   "source": [
    "Escribir un programa que pida al usuario que introduzca una frase en la consola y una vocal, y después muestre por pantalla la misma frase pero con la vocal introducida en mayúscula."
   ]
  },
  {
   "cell_type": "code",
   "execution_count": null,
   "metadata": {},
   "outputs": [],
   "source": [
    "cadena = input('ingrese una frase: ')\n",
    "vocal = input('ingrese una vocal: ')\n",
    "def cambiavocalmayus(cadena):\n",
    "    cadenacambiada = \"\"\n",
    "    for letra in cadena:\n",
    "        if letra == vocal:\n",
    "            cadenacambiada = cadenacambiada + letra.upper()\n",
    "        else:\n",
    "            cadenacambiada = cadenacambiada + letra.lower()\n",
    "    return cadenacambiada\n",
    "print(cambiavocalmayus(cadena))"
   ]
  },
  {
   "cell_type": "code",
   "execution_count": null,
   "metadata": {},
   "outputs": [],
   "source": []
  }
 ],
 "metadata": {
  "kernelspec": {
   "display_name": "Python 3",
   "language": "python",
   "name": "python3"
  },
  "language_info": {
   "codemirror_mode": {
    "name": "ipython",
    "version": 3
   },
   "file_extension": ".py",
   "mimetype": "text/x-python",
   "name": "python",
   "nbconvert_exporter": "python",
   "pygments_lexer": "ipython3",
   "version": "3.8.5"
  }
 },
 "nbformat": 4,
 "nbformat_minor": 4
}
