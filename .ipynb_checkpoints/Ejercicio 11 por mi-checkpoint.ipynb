{
 "cells": [
  {
   "cell_type": "markdown",
   "metadata": {},
   "source": [
    "Ejercicio 11\n",
    "Escribir un programa que pregunte el nombre el un producto, su precio y un número de unidades y \n",
    "muestre por pantalla una cadena con el nombre del producto seguido de su precio unitario con 6 \n",
    "dígitos enteros y 2 decimales, el número de unidades con tres dígitos y el coste total con 8 \n",
    "dígitos enteros y 2 decimales."
   ]
  },
  {
   "cell_type": "code",
   "execution_count": 43,
   "metadata": {},
   "outputs": [
    {
     "name": "stdin",
     "output_type": "stream",
     "text": [
      "Ingrese el nombre del producto:  papa\n",
      "Ingrese el precio del producto:  40\n",
      "Ingrese la cantidad que lleva:  3\n"
     ]
    },
    {
     "name": "stdout",
     "output_type": "stream",
     "text": [
      "Ud lleva Papa con un valor de 40.00 el kg llevando 3.00kg, debera abonar: $ 120.00 \n"
     ]
    }
   ],
   "source": [
    "producto = input(\"Ingrese el nombre del producto: \")\n",
    "precio = float(input(\"Ingrese el precio del producto: \"))\n",
    "unidades = float(input(\"Ingrese la cantidad que lleva: \"))\n",
    "total = precio*unidades\n",
    "print(f'Ud lleva {producto.title()} con un valor de {\"{:.2f}\".format(precio)} el kg llevando {\"{:.2f}\".format(unidades)}kg, debera abonar: $ {\"{:.2f}\".format(total)} ')"
   ]
  },
  {
   "cell_type": "code",
   "execution_count": null,
   "metadata": {},
   "outputs": [],
   "source": []
  },
  {
   "cell_type": "code",
   "execution_count": null,
   "metadata": {},
   "outputs": [],
   "source": []
  }
 ],
 "metadata": {
  "kernelspec": {
   "display_name": "Python 3",
   "language": "python",
   "name": "python3"
  },
  "language_info": {
   "codemirror_mode": {
    "name": "ipython",
    "version": 3
   },
   "file_extension": ".py",
   "mimetype": "text/x-python",
   "name": "python",
   "nbconvert_exporter": "python",
   "pygments_lexer": "ipython3",
   "version": "3.8.5"
  }
 },
 "nbformat": 4,
 "nbformat_minor": 4
}
