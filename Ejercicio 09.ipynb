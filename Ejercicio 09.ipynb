{
 "cells": [
  {
   "cell_type": "markdown",
   "metadata": {},
   "source": [
    "Escribir un programa que pregunte al usuario la fecha de su nacimiento en formato dd/mm/aaaa y muestra por pantalla, el día, el mes y el año. Adaptar el programa anterior para que también funcione cuando el día o el mes se introduzcan con un solo carácter."
   ]
  },
  {
   "cell_type": "code",
   "execution_count": 9,
   "metadata": {},
   "outputs": [
    {
     "name": "stdin",
     "output_type": "stream",
     "text": [
      "Ingrese su fecha de nacimiento (dd/mm/aaaa):  05/08/1982\n"
     ]
    },
    {
     "name": "stdout",
     "output_type": "stream",
     "text": [
      "\n",
      "Dia 05\n",
      "Mes 08\n",
      "Año 1982\n"
     ]
    }
   ],
   "source": [
    "fecha = input(\"Ingrese su fecha de nacimiento (dd/mm/aaaa): \")\n",
    "print(f'\\nDia {fecha[0]}{fecha[1]}')\n",
    "print(f'Mes {fecha[3]}{fecha[4]}')\n",
    "print(f'Año {fecha[6]}{fecha[7]}{fecha[8]}{fecha[9]}')"
   ]
  },
  {
   "cell_type": "code",
   "execution_count": 10,
   "metadata": {},
   "outputs": [
    {
     "name": "stdin",
     "output_type": "stream",
     "text": [
      "Ingrese su fecha de nacimiento (dd/mm/aaaa):  05/8/1982\n"
     ]
    },
    {
     "name": "stdout",
     "output_type": "stream",
     "text": [
      "\n",
      "Dia 05\n",
      "Mes 8\n",
      "Año 1982\n"
     ]
    }
   ],
   "source": [
    "fecha = input(\"Ingrese su fecha de nacimiento (dd/mm/aaaa): \")\n",
    "diamesaño = fecha.split(\"/\")\n",
    "print(f'\\nDia {diamesaño[0]}')\n",
    "print(f'Mes {diamesaño[1]}')\n",
    "print(f'Año {diamesaño[2]}')"
   ]
  },
  {
   "cell_type": "code",
   "execution_count": 12,
   "metadata": {},
   "outputs": [
    {
     "name": "stdin",
     "output_type": "stream",
     "text": [
      "Introduce la fecha de tu nacimiento en formato día/mes/año:  05/8/1982\n"
     ]
    },
    {
     "name": "stdout",
     "output_type": "stream",
     "text": [
      "Día 05\n",
      "Mes 8\n",
      "Año 1982\n"
     ]
    }
   ],
   "source": []
  },
  {
   "cell_type": "code",
   "execution_count": null,
   "metadata": {},
   "outputs": [],
   "source": []
  }
 ],
 "metadata": {
  "kernelspec": {
   "display_name": "Python 3",
   "language": "python",
   "name": "python3"
  },
  "language_info": {
   "codemirror_mode": {
    "name": "ipython",
    "version": 3
   },
   "file_extension": ".py",
   "mimetype": "text/x-python",
   "name": "python",
   "nbconvert_exporter": "python",
   "pygments_lexer": "ipython3",
   "version": "3.8.5"
  }
 },
 "nbformat": 4,
 "nbformat_minor": 4
}
