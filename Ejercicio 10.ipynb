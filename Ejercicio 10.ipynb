{
 "cells": [
  {
   "cell_type": "markdown",
   "metadata": {},
   "source": [
    "Escribir un programa que pregunte por consola por los productos de una cesta de la compra, separados por comas, y muestre por pantalla cada uno de los productos en una línea distinta."
   ]
  },
  {
   "cell_type": "code",
   "execution_count": null,
   "metadata": {},
   "outputs": [],
   "source": []
  },
  {
   "cell_type": "markdown",
   "metadata": {},
   "source": [
    "Respuesta ejemplo\n",
    "manzanas\n",
    "peras\n",
    "naranjas\n",
    "plátanos"
   ]
  },
  {
   "cell_type": "code",
   "execution_count": 1,
   "metadata": {},
   "outputs": [
    {
     "name": "stdin",
     "output_type": "stream",
     "text": [
      "Ingrese los productos comprados, separados por 'coma':  papas, cebollas, arroz\n"
     ]
    },
    {
     "name": "stdout",
     "output_type": "stream",
     "text": [
      "los productos son:  papas, cebollas, arroz\n",
      "['papas', ' cebollas', ' arroz']\n",
      "3\n"
     ]
    }
   ],
   "source": [
    "compra = input(\"Ingrese los productos comprados, separados por 'coma': \")\n",
    "productos = compra.split(',')\n",
    "cantidad = len(productos)\n",
    "print('los productos son: ',(compra))\n",
    "print(productos)\n",
    "print(cantidad)\n"
   ]
  },
  {
   "cell_type": "code",
   "execution_count": 14,
   "metadata": {},
   "outputs": [
    {
     "name": "stdin",
     "output_type": "stream",
     "text": [
      "Ingrese los productos comprados, separados por 'coma':  papa,huevo,arroz\n"
     ]
    },
    {
     "name": "stdout",
     "output_type": "stream",
     "text": [
      "papa\n",
      "huevo\n",
      "arroz\n"
     ]
    }
   ],
   "source": [
    "compra = input(\"Ingrese los productos comprados, separados por 'coma': \")\n",
    "print(compra.replace(',', '\\n'))"
   ]
  },
  {
   "cell_type": "code",
   "execution_count": null,
   "metadata": {},
   "outputs": [],
   "source": []
  }
 ],
 "metadata": {
  "kernelspec": {
   "display_name": "Python 3",
   "language": "python",
   "name": "python3"
  },
  "language_info": {
   "codemirror_mode": {
    "name": "ipython",
    "version": 3
   },
   "file_extension": ".py",
   "mimetype": "text/x-python",
   "name": "python",
   "nbconvert_exporter": "python",
   "pygments_lexer": "ipython3",
   "version": "3.8.5"
  }
 },
 "nbformat": 4,
 "nbformat_minor": 4
}
